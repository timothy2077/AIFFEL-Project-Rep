{
  "nbformat": 4,
  "nbformat_minor": 0,
  "metadata": {
    "colab": {
      "provenance": [],
      "include_colab_link": true
    },
    "kernelspec": {
      "name": "python3",
      "display_name": "Python 3"
    },
    "language_info": {
      "name": "python"
    }
  },
  "cells": [
    {
      "cell_type": "markdown",
      "metadata": {
        "id": "view-in-github",
        "colab_type": "text"
      },
      "source": [
        "<a href=\"https://colab.research.google.com/github/timothy2077/AIFFEL-Project-Rep/blob/main/subquest.ipynb\" target=\"_parent\"><img src=\"https://colab.research.google.com/assets/colab-badge.svg\" alt=\"Open In Colab\"/></a>"
      ]
    },
    {
      "cell_type": "code",
      "execution_count": null,
      "metadata": {
        "colab": {
          "base_uri": "https://localhost:8080/"
        },
        "id": "EvtUWuUdKKHB",
        "outputId": "10c87911-bb5b-4501-a49a-517507e1c630"
      },
      "outputs": [
        {
          "output_type": "stream",
          "name": "stdout",
          "text": [
            "회문확인을 위한 문자열을 입력하세요: aoa\n",
            "slicingNum  1 : -1\n",
            "뒤집힌 단어 1 : \n",
            "slicingNum 1 : -2\n",
            "slicingNum  1 : -2\n",
            "뒤집힌 단어 1 : \n",
            "slicingNum 1 : -3\n",
            "slicingNum  1 : -3\n",
            "뒤집힌 단어 1 : \n",
            "slicingNum 1 : -4\n",
            "뒤집힌 단어는 : aoa\n",
            "입력한 출력값은 : \n"
          ]
        }
      ],
      "source": [
        "#'''회문이란? 앞으로도 뒤로도 뒤집었을떄 전부 같은것을 뜻합니다.\n",
        "\n",
        "#1. 들어온 입력을 뒤접어서 출력해주세요\n",
        "#2. 해당 입력이 회문인지 판단하세요\n",
        "\n",
        "\n",
        "# 핵심.\n",
        "# 문자열을 입력받고 슬라이싱,인덱싱을 역순으로 진행하여 따로 값을 저장합니다.\n",
        "# 두 문자열을 비교하여 정확히 같다면 넘어갑니다.\n",
        "\n",
        "originalWord = input(\"회문확인을 위한 문자열을 입력하세요: \") #입력을 받습니다.\n",
        "reversedWord = '' #뒤집어진 단어를 저장하는 변수입니다.\n",
        "slicingNum = -1 #한단어씩 가져와야하기 때문에 번호를 지정합니다.\n",
        "\n",
        "for i in range(len(originalWord)):\n",
        "  print('slicingNum  1 :', slicingNum)\n",
        "  reversedWord += originalWord[slicingNum:slicingNum-1]\n",
        "  print('뒤집힌 단어 1 :', reversedWord)\n",
        "  slicingNum += -1\n",
        "  print('slicingNum 1 :', slicingNum)\n",
        "\n",
        "print('뒤집힌 단어는 :', originalWord)\n",
        "print('입력한 출력값은 :', reversedWord)\n",
        "\n",
        "\n",
        "\n",
        "\n"
      ]
    },
    {
      "cell_type": "code",
      "source": [
        "def is_palindrome(s):\n",
        "    # 공백, 구두점, 대소문자를 무시하고 회문을 확인합니다.\n",
        "    s = ''.join(c for c in s if c.isalnum()).lower()\n",
        "    return s == s[::-1]\n",
        "\n",
        "# 사용자 입력을 받습니다.\n",
        "user_input = input(\"문자열을 입력하세요: \")\n",
        "if is_palindrome(user_input):\n",
        "    print(\"입력하신 문자열은 회문입니다.\")\n",
        "else:\n",
        "    print(\"입력하신 문자열은 회문이 아닙니다.\")\n",
        "\n",
        "\n",
        "이 함수를 사용하는 이유\n",
        "\n",
        "1. 입력된 문자열에서 공백, 구두점, 대소문자를 무시하고 알파벳과 숫자만을 이용해 회문을 판단할 수 있기에\n",
        "2. 사용자로부터 문자열을 전달받아 is_paindrome 함수를 호출하여 회문을 판단하는 간편함이 장정이기에\n",
        "3. 마치 True & False처럼 지시받은 문자열을 심플하게“회문입니다.” 또는 \"\"회문이 아닙니다\"를 출력하기에\n"
      ],
      "metadata": {
        "id": "bsKz9LqHK5Gm",
        "colab": {
          "base_uri": "https://localhost:8080/"
        },
        "outputId": "74fbc110-5156-4c55-ad3a-d56232357b32"
      },
      "execution_count": null,
      "outputs": [
        {
          "output_type": "stream",
          "name": "stdout",
          "text": [
            "문자열을 입력하세요: 기러기\n",
            "입력하신 문자열은 회문입니다.\n"
          ]
        }
      ]
    },
    {
      "cell_type": "code",
      "source": [
        "# 문자열 입력 받기\n",
        "originalWord = input(\"회문확인을 위한 문자열을 입력하세요: \")  # 입력을 받습니다.\n",
        "reversedWord = ''  # 뒤집어진 단어를 저장하는 변수입니다.\n",
        "slicingNum = -1  # 한 단어씩 가져와야 하기 때문에 번호를 지정합니다.\n",
        "\n",
        "# 문자열을 역순으로 가져와 reversedWord에 저장합니다.\n",
        "for i in range(len(originalWord)):\n",
        "    reversedWord += originalWord[slicingNum]\n",
        "    print('reversedWord  1 :', reversedWord)\n",
        "    slicingNum -= 1\n",
        "     print('slicingNum  1 :', slicingNum)\n",
        "\n",
        "# 뒤집힌 단어 출력\n",
        "print('뒤집힌 단어는:', reversedWord)\n",
        "\n",
        "# 회문 여부 판단 및 출력\n",
        "if originalWord == reversedWord:\n",
        "    print('입력한 문자열은 회문입니다.')\n",
        "else:\n",
        "    print('입력한 문자열은 회문이 아닙니다.')"
      ],
      "metadata": {
        "colab": {
          "base_uri": "https://localhost:8080/",
          "height": 106
        },
        "id": "OcIlk-jNR_mt",
        "outputId": "02d1023a-3885-4531-c79c-dcd0e382bbed"
      },
      "execution_count": null,
      "outputs": [
        {
          "output_type": "error",
          "ename": "IndentationError",
          "evalue": "unexpected indent (<ipython-input-8-2b83647713f3>, line 11)",
          "traceback": [
            "\u001b[0;36m  File \u001b[0;32m\"<ipython-input-8-2b83647713f3>\"\u001b[0;36m, line \u001b[0;32m11\u001b[0m\n\u001b[0;31m    print('slicingNum  1 :', slicingNum)\u001b[0m\n\u001b[0m    ^\u001b[0m\n\u001b[0;31mIndentationError\u001b[0m\u001b[0;31m:\u001b[0m unexpected indent\n"
          ]
        }
      ]
    }
  ]
}
