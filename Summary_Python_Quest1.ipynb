{
  "nbformat": 4,
  "nbformat_minor": 0,
  "metadata": {
    "colab": {
      "provenance": [],
      "include_colab_link": true
    },
    "kernelspec": {
      "name": "python3",
      "display_name": "Python 3"
    },
    "language_info": {
      "name": "python"
    }
  },
  "cells": [
    {
      "cell_type": "markdown",
      "metadata": {
        "id": "view-in-github",
        "colab_type": "text"
      },
      "source": [
        "<a href=\"https://colab.research.google.com/github/timothy2077/AIFFEL-Project-Rep/blob/main/Summary_Python_Quest1.ipynb\" target=\"_parent\"><img src=\"https://colab.research.google.com/assets/colab-badge.svg\" alt=\"Open In Colab\"/></a>"
      ]
    },
    {
      "cell_type": "code",
      "execution_count": null,
      "metadata": {
        "colab": {
          "base_uri": "https://localhost:8080/"
        },
        "id": "PWyVnnU2Wxfn",
        "outputId": "bb91d099-2efb-49bf-8e8a-130b998595c4"
      },
      "outputs": [
        {
          "output_type": "stream",
          "name": "stdout",
          "text": [
            "회문확인을 위한 문자열을 입력하세요: hello\n",
            "뒤집힌 단어는: olleh\n",
            "입력한 문자열은 회문이 아닙니다.\n"
          ]
        }
      ],
      "source": [
        "def reverseString(s) :\n",
        "  # 주어진 문자열을 뒤집어서 반환하는 함수\n",
        "  # 문자열을 역순으로 가져와 reversedWord에 저장합니다.\n",
        "  reversedWord = ''  # 뒤집어진 단어를 저장하는 변수입니다.\n",
        "  slicingNum = -1    # 한 단어씩 가져와야 하기 때문에 번호를 지정합니다.\n",
        "  for i in range(len(originalWord)):\n",
        "      reversedWord += originalWord[slicingNum]\n",
        "      slicingNum -= 1\n",
        "  return reversedWord\n",
        "\n",
        "def isPalindrome(s) :\n",
        "  # 주어진 문자열이 회문인지 확인하는 함수\n",
        "  reversedWord = reverseString(s)\n",
        "  return s == reversedWord\n",
        "\n",
        "# 문자열 입력 받기\n",
        "originalWord = input(\"회문확인을 위한 문자열을 입력하세요: \")  # 입력을 받습니다.\n",
        "reversedWord = reverseString(originalWord)\n",
        "\n",
        "# 뒤집힌 단어 출력\n",
        "print('뒤집힌 단어는:', reversedWord)\n",
        "\n",
        "# 회문 여부 판단 및 출력\n",
        "if isPalindrome(originalWord):\n",
        "    print('입력한 문자열은 회문입니다.')\n",
        "else:\n",
        "    print('입력한 문자열은 회문이 아닙니다.')"
      ]
    }
  ]
}
